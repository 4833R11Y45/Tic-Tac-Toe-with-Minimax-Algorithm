{
 "cells": [
  {
   "cell_type": "markdown",
   "metadata": {},
   "source": [
    "<h1>Artificial Intelligence Assignment 02</h1>\n",
    "<br>\n",
    "<h2><strong>Name: </strong> Abeer Ilyas</h2>\n",
    "<h2><strong>Registration Number: </strong>200901055</h2>\n",
    "<h2><strong>Course: </strong>Artificial Intelligence</h2>\n",
    "<h2><strong>Instructor: </strong>Ma'am Reeda</h2>\n",
    "<h2><strong>Date: </strong>29/03/2023</h2>"
   ]
  },
  {
   "cell_type": "markdown",
   "metadata": {},
   "source": [
    "Libraries"
   ]
  },
  {
   "cell_type": "code",
   "execution_count": 1,
   "metadata": {},
   "outputs": [],
   "source": [
    "import math\n",
    "import random"
   ]
  },
  {
   "cell_type": "markdown",
   "metadata": {},
   "source": [
    "Constants"
   ]
  },
  {
   "cell_type": "code",
   "execution_count": 2,
   "metadata": {},
   "outputs": [],
   "source": [
    "X = \"X\"\n",
    "O = \"O\"\n",
    "EMPTY = None"
   ]
  },
  {
   "cell_type": "markdown",
   "metadata": {},
   "source": [
    "Error Handling"
   ]
  },
  {
   "cell_type": "code",
   "execution_count": 3,
   "metadata": {},
   "outputs": [],
   "source": [
    "class InvalidMoveError(Exception):\n",
    "    pass"
   ]
  },
  {
   "cell_type": "markdown",
   "metadata": {},
   "source": [
    "Game Board Class"
   ]
  },
  {
   "cell_type": "code",
   "execution_count": 4,
   "metadata": {},
   "outputs": [],
   "source": [
    "class Board:\n",
    "    def __init__(self):\n",
    "        self.board = [[EMPTY, EMPTY, EMPTY] for _ in range(3)]\n",
    "        self.current_player = None\n",
    "        self.winner = None\n",
    "        self.game_over = False\n",
    "\n",
    "    def get_available_moves(self):\n",
    "        moves = []\n",
    "        for i in range(3):\n",
    "            for j in range(3):\n",
    "                if self.board[i][j] == EMPTY:\n",
    "                    moves.append((i, j))\n",
    "        return moves\n",
    "\n",
    "    def make_move(self, move):\n",
    "        if self.board[move[0]][move[1]] != EMPTY:\n",
    "            raise InvalidMoveError(\"That move is not valid.\")\n",
    "        self.board[move[0]][move[1]] = self.current_player\n",
    "        self.check_winner()\n",
    "        if self.current_player == X:\n",
    "            self.current_player = O\n",
    "        else:\n",
    "            self.current_player = X\n",
    "\n",
    "    def check_winner(self):\n",
    "        for row in self.board:\n",
    "            if row[0] == row[1] == row[2] != EMPTY:\n",
    "                self.winner = row[0]\n",
    "                self.game_over = True\n",
    "        for i in range(3):\n",
    "            if self.board[0][i] == self.board[1][i] == self.board[2][i] != EMPTY:\n",
    "                self.winner = self.board[0][i]\n",
    "                self.game_over = True\n",
    "        if self.board[0][0] == self.board[1][1] == self.board[2][2] != EMPTY:\n",
    "            self.winner = self.board[0][0]\n",
    "            self.game_over = True\n",
    "        elif self.board[0][2] == self.board[1][1] == self.board[2][0] != EMPTY:\n",
    "            self.winner = self.board[0][2]\n",
    "            self.game_over = True\n",
    "\n",
    "    def print_board(self):\n",
    "        print(\"-------------\")\n",
    "        for row in self.board:\n",
    "            print(\"|\", end=\" \")\n",
    "            for cell in row:\n",
    "                if cell == EMPTY:\n",
    "                    print(\" \", end=\"| \")\n",
    "                else:\n",
    "                    print(cell, end=\"| \")\n",
    "            print(\"\\n-------------\")"
   ]
  },
  {
   "cell_type": "markdown",
   "metadata": {},
   "source": [
    "Minimax Algorithm"
   ]
  },
  {
   "cell_type": "code",
   "execution_count": 5,
   "metadata": {},
   "outputs": [],
   "source": [
    "def max_value(state):\n",
    "    if state.game_over:\n",
    "        return get_utility(state)\n",
    "    v = -math.inf\n",
    "    for action in state.get_available_moves():\n",
    "        v = max(v, min_value(result(state, action)))\n",
    "    return v\n",
    "\n",
    "def min_value(state):\n",
    "    if state.game_over:\n",
    "        return get_utility(state)\n",
    "    v = math.inf\n",
    "    for action in state.get_available_moves():\n",
    "        v = min(v, max_value(result(state, action)))\n",
    "    return v"
   ]
  },
  {
   "cell_type": "markdown",
   "metadata": {},
   "source": [
    "Result Class"
   ]
  },
  {
   "cell_type": "code",
   "execution_count": 6,
   "metadata": {},
   "outputs": [],
   "source": [
    "def result(state, move):\n",
    "    new_state = Board()\n",
    "    new_state.board = [row[:] for row in state.board]\n",
    "    new_state.current_player = state.current_player\n",
    "    new_state.board[move[0]][move[1]] = state.current_player\n",
    "    new_state.check_winner()\n",
    "    if new_state.current_player == X:\n",
    "        new_state.current_player = O\n",
    "    else:\n",
    "        new_state.current_player = X\n",
    "    return new_state"
   ]
  },
  {
   "cell_type": "code",
   "execution_count": 7,
   "metadata": {},
   "outputs": [],
   "source": [
    "def get_utility(state):\n",
    "    if state.winner == X:\n",
    "        return 1\n",
    "    elif state.winner == O:\n",
    "        return -1\n",
    "    else:\n",
    "        return 0"
   ]
  },
  {
   "cell_type": "code",
   "execution_count": 8,
   "metadata": {},
   "outputs": [],
   "source": [
    "def play_game():\n",
    "    x_score = 0\n",
    "    o_score = 0\n",
    "    while True:\n",
    "        board = Board()\n",
    "        board.current_player = X\n",
    "        while not board.game_over:\n",
    "            if board.current_player == X:\n",
    "                print(\"X player's turn:\")\n",
    "                move = input(\"Enter your move (e.g. '0 1' for row 0 column 1): \").split()\n",
    "                move = (int(move[0]), int(move[1]))\n",
    "                try:\n",
    "                    board.make_move(move)\n",
    "                except InvalidMoveError as e:\n",
    "                    print(e)\n",
    "                    continue\n",
    "            else:\n",
    "                print(\"O player's turn:\")\n",
    "                move = get_best_move(board)\n",
    "                board.make_move(move)\n",
    "            board.print_board()\n",
    "        if board.winner:\n",
    "            print(f\"{board.winner} player wins!\")\n",
    "            if board.winner == X:\n",
    "                x_score += 1\n",
    "            else:\n",
    "                o_score += 1\n",
    "        else:\n",
    "            print(\"It's a tie!\")\n",
    "        print(f\"Score - X: {x_score}, O: {o_score}\")\n",
    "        while True:\n",
    "            play_again = input(\"Do you want to play again? (y/n): \")\n",
    "            if play_again.lower() == \"y\":\n",
    "                break\n",
    "            elif play_again.lower() == \"n\":\n",
    "                return\n",
    "            else:\n",
    "                print(\"Invalid input, please enter 'y' or 'n'.\")"
   ]
  },
  {
   "cell_type": "code",
   "execution_count": 9,
   "metadata": {},
   "outputs": [],
   "source": [
    "def get_best_move(state, depth=0):\n",
    "    moves = state.get_available_moves()\n",
    "    if depth == 0 or len(moves) == 1:\n",
    "        return random.choice(moves)\n",
    "    best_move = None\n",
    "    best_value = -math.inf\n",
    "    for move in moves:\n",
    "        value = min_value(result(state, move), depth-1)\n",
    "        if value > best_value:\n",
    "            best_move = move\n",
    "            best_value = value\n",
    "    return best_move"
   ]
  },
  {
   "cell_type": "code",
   "execution_count": 10,
   "metadata": {},
   "outputs": [
    {
     "name": "stdout",
     "output_type": "stream",
     "text": [
      "X player's turn:\n",
      "Enter your move (e.g. '0 1' for row 0 column 1): 0 0\n",
      "-------------\n",
      "| X|  |  | \n",
      "-------------\n",
      "|  |  |  | \n",
      "-------------\n",
      "|  |  |  | \n",
      "-------------\n",
      "O player's turn:\n",
      "-------------\n",
      "| X|  | O| \n",
      "-------------\n",
      "|  |  |  | \n",
      "-------------\n",
      "|  |  |  | \n",
      "-------------\n",
      "X player's turn:\n",
      "Enter your move (e.g. '0 1' for row 0 column 1): 1 1\n",
      "-------------\n",
      "| X|  | O| \n",
      "-------------\n",
      "|  | X|  | \n",
      "-------------\n",
      "|  |  |  | \n",
      "-------------\n",
      "O player's turn:\n",
      "-------------\n",
      "| X|  | O| \n",
      "-------------\n",
      "|  | X| O| \n",
      "-------------\n",
      "|  |  |  | \n",
      "-------------\n",
      "X player's turn:\n",
      "Enter your move (e.g. '0 1' for row 0 column 1): 2 2\n",
      "-------------\n",
      "| X|  | O| \n",
      "-------------\n",
      "|  | X| O| \n",
      "-------------\n",
      "|  |  | X| \n",
      "-------------\n",
      "X player wins!\n",
      "Score - X: 1, O: 0\n",
      "Do you want to play again? (y/n): N\n"
     ]
    }
   ],
   "source": [
    "if __name__ == \"__main__\":\n",
    "    play_game()"
   ]
  }
 ],
 "metadata": {
  "kernelspec": {
   "display_name": "Python 3",
   "language": "python",
   "name": "python3"
  },
  "language_info": {
   "codemirror_mode": {
    "name": "ipython",
    "version": 3
   },
   "file_extension": ".py",
   "mimetype": "text/x-python",
   "name": "python",
   "nbconvert_exporter": "python",
   "pygments_lexer": "ipython3",
   "version": "3.8.5"
  }
 },
 "nbformat": 4,
 "nbformat_minor": 4
}
